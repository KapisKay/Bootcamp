{
 "cells": [
  {
   "cell_type": "markdown",
   "metadata": {},
   "source": [
    "# Python \n",
    "\n",
    "**Overview **\n",
    "\n",
    "Python is a cross-platform programming language, which means it runs on all the major operating systems. Any Python program you write should run on any modern computer that has Python installed. However, the methods for setting up Python on different operating systems vary slightly.\n",
    "\n",
    "Python originated in the late 1980s and its main goal is to be readable by human beings (not only machines!). This is why it\n",
    "looks simpler than other programming languages.\n",
    "\n",
    "Python is used for creating websites, scientific software, graphics, and games and also applied in data science.\n",
    "\n",
    "**Variables**\n",
    "\n",
    "A variable is a name for something so you can use it later. Programmers use these variables to store data, make their code more readable.\n",
    "\n",
    "Variables have to be specific and are also case sensitive. \n",
    "\n",
    "Variable names can contain only letters, numbers, and underscores.\n",
    "\n",
    "Spaces are not allowed in variable names, but underscores can be used to separate words in variable names\n",
    "\n",
    "Examples:\n",
    "\n"
   ]
  },
  {
   "cell_type": "code",
   "execution_count": 1,
   "metadata": {},
   "outputs": [],
   "source": [
    "name ='Kofi'\n",
    "age = 12\n",
    "country_1= 'Ghana'\n",
    "sum = 12.5"
   ]
  },
  {
   "cell_type": "markdown",
   "metadata": {},
   "source": [
    "> Note that: name =’Kofi’ is different from Name=’Kofi’ and different from names =’Kofi’"
   ]
  },
  {
   "cell_type": "markdown",
   "metadata": {},
   "source": [
    "**Strings**\n",
    "\n",
    "Strings is a data type used to represent text or a series of characters. Anything inside quotes can be considered as a string in Python. You can use single (‘ ’) or double quotes (“ ”) around your strings.\n",
    "\n",
    "Examples:"
   ]
  },
  {
   "cell_type": "code",
   "execution_count": 2,
   "metadata": {},
   "outputs": [],
   "source": [
    "x = \"Hello\"\n",
    "y = 'My name is …'\n",
    "t = 'python programmer'"
   ]
  },
  {
   "cell_type": "markdown",
   "metadata": {},
   "source": [
    "*Changing Case in Strings*\n",
    "\n",
    "One of the simplest tasks you can do with strings is change the case of the\n",
    "words in a string.\n",
    "\n",
    "![https://i.imgur.com/bK2beW6.jpg](https://i.imgur.com/bK2beW6.jpg)\n"
   ]
  },
  {
   "cell_type": "code",
   "execution_count": 3,
   "metadata": {},
   "outputs": [],
   "source": [
    "t= 'imagine dragons'"
   ]
  },
  {
   "cell_type": "markdown",
   "metadata": {},
   "source": [
    "*Combining or Concatenating Strings*\n",
    "\n",
    "The + symbol is used to combine strings. This method of combining strings is called concatenation. You can use concatenation to compose complete messages using the information you’ve stored in a variable.\n",
    "Example:\n"
   ]
  },
  {
   "cell_type": "code",
   "execution_count": 4,
   "metadata": {},
   "outputs": [
    {
     "name": "stdout",
     "output_type": "stream",
     "text": [
      "HelloHow are you?\n",
      "I am happy\n"
     ]
    }
   ],
   "source": [
    "print(\"Hello\" + \"How are you?\")\n",
    "x= 'I am ' \n",
    "y= 'happy'\n",
    "z= print(x+y)"
   ]
  },
  {
   "cell_type": "markdown",
   "metadata": {},
   "source": [
    "> Note that, if you need to put an apostrophe inside your string, you have two ways to do it.  \n",
    "\n",
    "“Theirs is a big cat on the fence”\n",
    "\n",
    "‘And she said “I like it” ’"
   ]
  },
  {
   "cell_type": "markdown",
   "metadata": {},
   "source": [
    "**Number**\n",
    "\n",
    "Number data types store numeric values. They are immutable data types. This means, changing the value of a number data type results in a newly allocated object. Numbers are not kept in quotes \n",
    "\n",
    "Examples:\n"
   ]
  },
  {
   "cell_type": "code",
   "execution_count": 5,
   "metadata": {},
   "outputs": [],
   "source": [
    "x= 1\n",
    "y= 345"
   ]
  },
  {
   "cell_type": "markdown",
   "metadata": {},
   "source": [
    "![https://i.imgur.com/7okc0iW.jpg](https://i.imgur.com/7okc0iW.jpg)\n",
    "\n",
    "**Floats**\n",
    "\n",
    "Float is a number that has both an integer and fractional part, separated by a point (Decimals). \n",
    "\n",
    "Examples:"
   ]
  },
  {
   "cell_type": "code",
   "execution_count": 6,
   "metadata": {},
   "outputs": [
    {
     "name": "stdout",
     "output_type": "stream",
     "text": [
      "0.2\n",
      "0.4\n",
      "0.2\n"
     ]
    }
   ],
   "source": [
    "print(0.1 + 0.1)\n",
    "print(0.4)\n",
    "print(2 * 0.1)"
   ]
  },
  {
   "cell_type": "markdown",
   "metadata": {},
   "source": [
    "**Lists**\n",
    "\n",
    "A list is a collection of items in a particular order. A list is represented by [] and individual elements in the list are separated by commas.\n",
    "\n",
    "Examples:"
   ]
  },
  {
   "cell_type": "code",
   "execution_count": 7,
   "metadata": {},
   "outputs": [],
   "source": [
    "fruits = ['apple', 'orange' ,'pear', 'banana']\n",
    "num= [1, 4, 7, 5, 90, 3]"
   ]
  },
  {
   "cell_type": "markdown",
   "metadata": {},
   "source": [
    "*Organizing a List*\n",
    "\n",
    "Often, your lists will be created in an unpredictable order, because you can’t always control the order in which your users provide their data. Although this is unavoidable in most circumstances, you’ll frequently want to present your information in a particular order. Sometimes you’ll want to preserve the original order of your list, and other times you’ll want to change the original order. Python provides a number of different ways to organize your lists, depending on the situation.\n",
    "\n",
    "![https://i.imgur.com/Gcx3HGE.jpg](https://i.imgur.com/Gcx3HGE.jpg)\n",
    "\n",
    "*Accessing Elements in a List*\n",
    "\n",
    "Lists are ordered collections, so you can access any element in a list by telling Python the position, or index, of the item desired. To access an element in a list, write the name of the list followed by the index of the item enclosed in square brackets.\n"
   ]
  },
  {
   "cell_type": "code",
   "execution_count": 8,
   "metadata": {},
   "outputs": [
    {
     "name": "stdout",
     "output_type": "stream",
     "text": [
      "apple\n",
      "My favorite fruits is Pear\n"
     ]
    }
   ],
   "source": [
    "print(fruits[0])\n",
    "print('My favorite fruits is' +' '+ fruits[2].title())"
   ]
  },
  {
   "cell_type": "markdown",
   "metadata": {},
   "source": [
    "*Index Position*\n",
    "\n",
    "Python considers the first item in a list to be at position 0, not position 1.The second item in a list has an index of 1. Using this simple counting system, you can get any element you want from a list by subtracting one from its position in the list. For instance, to access the fourth item in a list, you request the item at index 3.\n",
    "\n",
    "*Simple Statistics with a List of Numbers*\n",
    "\n",
    "A few Python functions are specific to lists of numbers. For example, you can easily find the minimum, maximum, and sum of a list of numbers.\n",
    "\n",
    "![https://i.imgur.com/7fqYBnZ.jpg](https://i.imgur.com/7fqYBnZ.jpg)\n",
    "\n",
    "*Modifying Elements in a List*\n",
    "\n",
    "![https://i.imgur.com/gvRdmpr.jpg](https://i.imgur.com/gvRdmpr.jpg)\n",
    "\n",
    "**Dictionaries**\n",
    "\n",
    "A dictionary is similar to a list, but you access values by looking up a key instead of a numeric index. A key can be any string or number. A dictionary is represented by {}.\n",
    "\n",
    "Example:\n"
   ]
  },
  {
   "cell_type": "code",
   "execution_count": 9,
   "metadata": {},
   "outputs": [],
   "source": [
    "users = {'name': 'Kofi', 'country': 'Ghana', 'age': 12} "
   ]
  },
  {
   "cell_type": "markdown",
   "metadata": {},
   "source": [
    "> With this command, you just created a variable named users with three key–value pairs:\n",
    "> The key name points to the value 'Kofi' (a string object),country points to 'Ghana' (another string ),and  age points to 12 (a number).\n",
    "\n",
    "*Accessing Values in a Dictionary*\n",
    "\n",
    "To get the value associated with a key, give the name of the dictionary and then place the key inside a set of square brackets.\n",
    "\n",
    "Example:\n"
   ]
  },
  {
   "cell_type": "code",
   "execution_count": 10,
   "metadata": {},
   "outputs": [
    {
     "name": "stdout",
     "output_type": "stream",
     "text": [
      "12\n"
     ]
    }
   ],
   "source": [
    "print(users['age'])"
   ]
  },
  {
   "cell_type": "markdown",
   "metadata": {},
   "source": [
    "*Modifying Values in a Dictionary*\n",
    "\n",
    "![https://i.imgur.com/OkuB0sv.jpg](https://i.imgur.com/OkuB0sv.jpg)\n",
    "\n",
    "**Conditional Statements**\n",
    "\n",
    "Programming often involves examining a set of conditions and deciding which action to take based on those conditions. In Python you can compare things by using > , >= , == , <= , < and the and , or operators.\n",
    "\n",
    "*If and else Statements*\n",
    "\n",
    "Python’s if statement allows you to examine the current state of a program and respond appropriately to that state.\n",
    "\n",
    "Examples:"
   ]
  },
  {
   "cell_type": "code",
   "execution_count": 11,
   "metadata": {},
   "outputs": [
    {
     "name": "stdout",
     "output_type": "stream",
     "text": [
      "it works\n"
     ]
    }
   ],
   "source": [
    "if 3>2:\n",
    "\tprint('it works') \n",
    "else:\n",
    "\tprint('Not True')"
   ]
  },
  {
   "cell_type": "markdown",
   "metadata": {},
   "source": [
    "elif is used to handle more than one condition. \n",
    "\n",
    "Examples:"
   ]
  },
  {
   "cell_type": "code",
   "execution_count": 12,
   "metadata": {},
   "outputs": [
    {
     "name": "stdout",
     "output_type": "stream",
     "text": [
      "Hi Kofi\n"
     ]
    }
   ],
   "source": [
    "name= 'Kofi'\n",
    "if name == 'Yaw':\n",
    "\tprint('Hi Yaw')\n",
    "elif name == 'Kofi':\n",
    "\tprint('Hi Kofi')\n",
    "else:\n",
    "\tprint('Hi anonymous')"
   ]
  },
  {
   "cell_type": "markdown",
   "metadata": {},
   "source": [
    "> See what happened there? elif lets you add extra conditions that run if the previous conditions fail. You can add as many elif statements as you like after your initial if statement."
   ]
  },
  {
   "cell_type": "code",
   "execution_count": 13,
   "metadata": {},
   "outputs": [
    {
     "name": "stdout",
     "output_type": "stream",
     "text": [
      "Perfect I can hear all the details\n"
     ]
    }
   ],
   "source": [
    "volume = 56\n",
    "if  volume < 28:\n",
    "\tprint('It is quiet')\n",
    "elif  28<= volume <= 48:\n",
    "\tprint('It is nice for background music')\n",
    "elif 48<= volume <=68:\n",
    "\tprint('Perfect I can hear all the details')\n",
    "else:\n",
    "\tprint('My ears are hurting')"
   ]
  },
  {
   "cell_type": "markdown",
   "metadata": {},
   "source": [
    "*Comparison Operator*\n",
    "\n",
    "![https://i.imgur.com/inZ7Fte.jpg](https://i.imgur.com/inZ7Fte.jpg)\n",
    "\n",
    "*Boolean and Logical Operators*\n",
    "\n",
    "There are only 2 Boolean operators.\n",
    "* True\n",
    "* False\n",
    "\n",
    "But for Python to understand this, you need to always write it as 'True' (first letter uppercase, with the rest of the letters lowercased). true, TRUE, and tRUE won't work – only True is correct. (The same applies to 'False' as well.)\n",
    "\n",
    "Assuming a holds True and b holds False then:\n",
    "\n",
    "![https://i.imgur.com/sMcyTFE.jpg](https://i.imgur.com/sMcyTFE.jpg)\n",
    "\n",
    "**Classes**\n",
    "\n",
    "A user-defined prototype for an object that defines a set of attributes that characterize any object of the class. The attributes are data members (class variables and instance variables) and methods, accessed via dot notation.\n",
    "Classes represent real world things and situations\n",
    "\n",
    "*Creating a class*\n",
    "\n",
    "The class statement creates a new class definition. The name of the class immediately follows the keyword class followed by a colon.\n",
    "\n",
    "Example:"
   ]
  },
  {
   "cell_type": "code",
   "execution_count": 14,
   "metadata": {},
   "outputs": [],
   "source": [
    "class Employee:\n",
    "   def __init__(self, name, salary):\n",
    "      self.name = name\n",
    "      self.salary = salary   \n",
    "   def displayEmployee(self):\n",
    "      print (\"Name : \", self.name,  \", Salary: \", self.salary)"
   ]
  },
  {
   "cell_type": "markdown",
   "metadata": {},
   "source": [
    "*Creating Instance Objects*\n",
    "\n",
    "To create instances of a class, you call the class using class name and pass in whatever arguments its init method accepts.\n"
   ]
  },
  {
   "cell_type": "code",
   "execution_count": 15,
   "metadata": {},
   "outputs": [],
   "source": [
    "# This would create first object of Employee class\n",
    "emp1 = Employee(\"Zara\", 2000)\n",
    "# This would create second object of Employee class\n",
    "emp2 = Employee(\"Manni\", 5000)"
   ]
  },
  {
   "cell_type": "markdown",
   "metadata": {},
   "source": [
    "*Accessing Attributes*\n",
    "\n",
    "To access the attributes of an instance, you use dot notation.\n",
    "\n",
    "Examples:\n"
   ]
  },
  {
   "cell_type": "code",
   "execution_count": 16,
   "metadata": {},
   "outputs": [
    {
     "name": "stdout",
     "output_type": "stream",
     "text": [
      "Employee’s name is :  Zara\n"
     ]
    }
   ],
   "source": [
    "emp1.name\n",
    "print(\"Employee’s name is :  \" + emp1.name )"
   ]
  },
  {
   "cell_type": "markdown",
   "metadata": {},
   "source": [
    "*Accessing Method*\n",
    "\n",
    "After we create an instance from the class Dog, we can use dot notation to call any method defined in Employee.\n",
    "\n",
    "Example:"
   ]
  },
  {
   "cell_type": "code",
   "execution_count": 17,
   "metadata": {},
   "outputs": [
    {
     "name": "stdout",
     "output_type": "stream",
     "text": [
      "Name :  Manni , Salary:  5000\n"
     ]
    }
   ],
   "source": [
    "emp2.displayEmployee()"
   ]
  },
  {
   "cell_type": "markdown",
   "metadata": {},
   "source": [
    "# **Numpy**\n",
    "\n",
    "NumPy is a Python library that can be used for scientific and numerical applications and is the tool to use for linear algebra operations. \n",
    "\n",
    "*Creating Numpy Array:*\n",
    "\n",
    "Numpy arrays can be easily manipulated and are faster in computation.\n",
    "\n",
    "Np.arange([start],[stop],[step]) returns a list which starts at [start] and ends at [stop] with an interval of [step]. "
   ]
  },
  {
   "cell_type": "code",
   "execution_count": 18,
   "metadata": {
    "_cell_guid": "b1076dfc-b9ad-4769-8c92-a6c4dae69d19",
    "_uuid": "8f2839f25d086af736a60e9eeb907d3b93b6e0e5"
   },
   "outputs": [
    {
     "name": "stdout",
     "output_type": "stream",
     "text": [
      "[1 2 3 4 5 6]\n"
     ]
    }
   ],
   "source": [
    "import numpy as np # linear algebra\n",
    "\n",
    "#A = normal array; B = array with zeros; C=identity matrix\n",
    "A = np.array([1,2,3,4,5,6]) \n",
    "B = np.zeros((3,3))\n",
    "C = np.eye(3)\n",
    "\n",
    "#Using arrange\n",
    "np.arange(0,20,2)\n",
    "\n",
    "#Reshaping A to multi-dim 2 by 3 matrix/array\n",
    "D = A.reshape(2,3)\n",
    "\n",
    "print(A)\n",
    "#print(B)\n",
    "#print(C)\n",
    "#print(D)"
   ]
  },
  {
   "cell_type": "markdown",
   "metadata": {},
   "source": [
    "Arrays = Vectors=matrix so from Example 1, the shape of the Array = 5 (A.shape) or in normal math terms a 1✕5 matrix. This matrix can be changed to a multiple dimensional array by using reshape also in example 1.\n",
    "2D and Nd arrays\n",
    "\n",
    "*Numpy.ndarray:* An array object represents a multidimensional, homogeneous array of fixed-size items. An ndarray is a (usually fixed-size) multidimensional container of items of the same type and size. The number of dimensions and items in an array is defined by its shape, which is a tuple of N positive integers that specify the sizes of each dimension. The type of items in the array is specified by a separate data-type object (dtype), one of which is associated with each ndarray. \n",
    "\n",
    "Accepted parameters: \n",
    "1. Shape: Shape of created array. \n",
    "1. Dtype: Any object that can be interpreted as a numpy data type.\n",
    "1. Buffer: Used to fill the array with data.\n",
    "1. Offset: Offset of array data in buffer.\n",
    "1. Strides: Strides of data in memory.\n",
    "1. Order: Row-major (C-style) or column-major (Fortran-style) order.\n"
   ]
  },
  {
   "cell_type": "code",
   "execution_count": 19,
   "metadata": {
    "_cell_guid": "79c7e3d0-c299-4dcb-8224-4455121ee9b0",
    "_uuid": "d629ff2d2480ee46fbb7e2d37f6b5fab8052498a"
   },
   "outputs": [
    {
     "data": {
      "text/plain": [
       "array([5, 6])"
      ]
     },
     "execution_count": 19,
     "metadata": {},
     "output_type": "execute_result"
    }
   ],
   "source": [
    "np.ndarray((2,), buffer = np.array([4,5,6]), offset=np.int_().itemsize, dtype=int)"
   ]
  },
  {
   "cell_type": "markdown",
   "metadata": {},
   "source": [
    "**Numpy Methods**\n",
    "\n",
    "![https://i.imgur.com/vqC8WmZ.jpg](https://i.imgur.com/vqC8WmZ.jpg)\n",
    "\n"
   ]
  },
  {
   "cell_type": "markdown",
   "metadata": {},
   "source": [
    "**Statistics with Numpy**\n",
    "\n",
    "*Mean*\n",
    "\n",
    "Compute the arithmetic mean along the specified axis. Returns the average of the array elements. The average is taken over the flattened array by default, otherwise over the specified axis. float64 intermediate and return values are used for integer inputs.\n",
    "\n",
    "How: numpy.mean(a, axis=None, dtype=None, out=None, keepdims=<no value>)\n"
   ]
  },
  {
   "cell_type": "code",
   "execution_count": 20,
   "metadata": {},
   "outputs": [
    {
     "data": {
      "text/plain": [
       "3.5"
      ]
     },
     "execution_count": 20,
     "metadata": {},
     "output_type": "execute_result"
    }
   ],
   "source": [
    "np.mean(D)               #calculates mean of flattened array\n",
    "#np.mean(D, axis=0)       #calculates mean along the 0-axis\n",
    "#np.mean(D, axis=1)       #calculates mean along the 1-axis\n"
   ]
  },
  {
   "cell_type": "markdown",
   "metadata": {},
   "source": [
    "*Median*\n",
    "\n",
    "Compute the median along the specified axis. Returns the median of the array elements.\n",
    "\n",
    "How: numpy.median(a, axis=None, out=None, overwrite_input=False, keepdims=False)\n"
   ]
  },
  {
   "cell_type": "code",
   "execution_count": 21,
   "metadata": {},
   "outputs": [
    {
     "data": {
      "text/plain": [
       "array([2., 5.])"
      ]
     },
     "execution_count": 21,
     "metadata": {},
     "output_type": "execute_result"
    }
   ],
   "source": [
    "np.median(D, axis=1)\t#computes median along a certain axis"
   ]
  },
  {
   "cell_type": "markdown",
   "metadata": {},
   "source": [
    "*Standard Deviation (Std)*\n",
    "\n",
    "Compute the standard deviation along the specified axis. Returns the standard deviation, a measure of the spread of a distribution, of the array elements. The standard deviation is computed for the flattened array by default, otherwise over the specified axis.\n",
    "\n",
    "How: numpy.std(a, axis=None, dtype=None, out=None, ddof=0, keepdims=<no value>)\n"
   ]
  },
  {
   "cell_type": "code",
   "execution_count": 22,
   "metadata": {},
   "outputs": [
    {
     "data": {
      "text/plain": [
       "array([1.5, 1.5, 1.5])"
      ]
     },
     "execution_count": 22,
     "metadata": {},
     "output_type": "execute_result"
    }
   ],
   "source": [
    "np.std(D, axis=0)\t#calculates std of D along 0-axis"
   ]
  },
  {
   "cell_type": "markdown",
   "metadata": {},
   "source": [
    "*Pearson Product-Moment correlation coefficients (Corrcoef)*\n",
    "\n",
    "Return Pearson product-moment correlation coefficients.\n",
    "\n",
    "How: numpy.corrcoef(x, y=None, rowvar=True, bias=<no value>, ddof=<no value>)\n"
   ]
  },
  {
   "cell_type": "code",
   "execution_count": 23,
   "metadata": {},
   "outputs": [
    {
     "data": {
      "text/plain": [
       "array([[1., 1.],\n",
       "       [1., 1.]])"
      ]
     },
     "execution_count": 23,
     "metadata": {},
     "output_type": "execute_result"
    }
   ],
   "source": [
    "np.corrcoef(D)"
   ]
  },
  {
   "cell_type": "markdown",
   "metadata": {},
   "source": [
    "*Sum*\n",
    "\n",
    "Sum of array elements over a given axis.\n",
    "\n",
    "How: numpy.sum(a, axis=None, dtype=None, out=None, keepdims=<no value>, initial=<no value>)"
   ]
  },
  {
   "cell_type": "code",
   "execution_count": 24,
   "metadata": {},
   "outputs": [
    {
     "data": {
      "text/plain": [
       "array([ 6, 15])"
      ]
     },
     "execution_count": 24,
     "metadata": {},
     "output_type": "execute_result"
    }
   ],
   "source": [
    "np.sum(D, axis=1)\t#calculates sum along rows/1-axis"
   ]
  },
  {
   "cell_type": "markdown",
   "metadata": {},
   "source": [
    "*Sort*\n",
    "Return a sorted copy of an array.\n",
    "\n",
    "How: numpy.sort(a, axis=-1, kind='quicksort', order=None)"
   ]
  },
  {
   "cell_type": "code",
   "execution_count": 25,
   "metadata": {},
   "outputs": [
    {
     "data": {
      "text/plain": [
       "array([[1, 2, 3],\n",
       "       [4, 5, 6]])"
      ]
     },
     "execution_count": 25,
     "metadata": {},
     "output_type": "execute_result"
    }
   ],
   "source": [
    "np.sort(D)\t\t#sort along the last axis"
   ]
  },
  {
   "cell_type": "markdown",
   "metadata": {},
   "source": [
    "*Random.normal*\n",
    "\n",
    "Draws random samples from a normal (Gaussian) distribution.\n",
    "\n",
    "How: numpy.random.normal(loc=0.0, scale=1.0, size=None)\n"
   ]
  },
  {
   "cell_type": "code",
   "execution_count": 26,
   "metadata": {},
   "outputs": [
    {
     "data": {
      "text/plain": [
       "array([ 5.92533867e-04, -1.35991188e-02,  1.39097907e-01, -1.88678381e-01,\n",
       "        1.54681710e-01, -6.24411330e-02, -1.65531203e-01, -4.74157595e-02,\n",
       "       -1.65900265e-01,  1.58693829e-01,  3.07055470e-02,  1.05475784e-02,\n",
       "       -5.05688487e-02, -1.83910786e-01,  5.61736161e-03, -5.80335667e-02,\n",
       "        5.70744488e-02,  1.92298978e-01, -2.68188889e-01,  2.30856007e-02,\n",
       "       -6.26325801e-02,  4.53976079e-02,  2.94420104e-03,  2.40205696e-03,\n",
       "       -4.76710709e-02,  6.55579188e-02, -1.56173136e-01, -4.60102571e-02,\n",
       "        7.13696126e-03,  8.58503795e-02, -3.68282642e-02, -6.78789273e-02,\n",
       "        1.36355487e-01, -5.24394311e-02, -1.25993990e-01, -5.88610423e-02,\n",
       "        1.17292577e-01, -1.44215004e-01, -7.94398110e-02,  6.80098909e-02,\n",
       "       -1.86438968e-01, -3.69955892e-02, -1.84962060e-01, -1.54338200e-01,\n",
       "        1.72836257e-01,  2.61986598e-01, -2.57888709e-02, -6.85941972e-02,\n",
       "        1.11624304e-01,  1.63537412e-01, -4.00144720e-02,  5.31582399e-02,\n",
       "       -5.63151561e-02, -4.77586255e-02,  8.40851898e-02,  1.58102034e-02,\n",
       "        2.72432105e-02, -2.15242358e-02,  6.33096911e-02, -1.52397448e-01,\n",
       "       -5.12669841e-02,  5.03680507e-03, -9.16096805e-02,  9.34491969e-02,\n",
       "        2.37693243e-02, -1.14575482e-01,  7.99637299e-02,  4.49268551e-02,\n",
       "       -1.52191693e-01, -3.22346425e-02, -1.72495164e-01,  1.15314226e-01,\n",
       "       -6.35548926e-02, -3.72367712e-02,  1.71491252e-01, -2.01121237e-01,\n",
       "        1.55402230e-01,  4.36755434e-02, -1.29964619e-01,  7.20272992e-02,\n",
       "       -3.22419801e-02,  5.18600242e-02, -2.98667039e-02, -4.36719823e-02,\n",
       "        1.00931984e-01, -1.06922963e-01, -1.14570678e-01,  2.90290430e-02,\n",
       "       -5.83525966e-02,  2.69498557e-02,  1.06400733e-02, -1.79652011e-01,\n",
       "        1.06660986e-01, -9.37495188e-02, -1.98475743e-01, -6.25727714e-02,\n",
       "        7.60214227e-02,  7.63294393e-02,  2.43713999e-02,  4.73385027e-02,\n",
       "        1.86982157e-02, -1.22824757e-01, -2.25953655e-01,  6.22993397e-03,\n",
       "        1.09442176e-01,  1.04712080e-02, -2.58999346e-02, -5.92664349e-02,\n",
       "        1.35877571e-02,  1.07267704e-01, -4.02798596e-03, -4.41469943e-02,\n",
       "       -1.42357212e-02, -4.78512079e-02, -5.86779165e-02,  4.64858060e-02,\n",
       "       -5.88397582e-02,  8.60304293e-02,  3.73583559e-03, -2.37074268e-01,\n",
       "        1.42621111e-01, -2.96821795e-02, -6.24375652e-02, -9.77555981e-02,\n",
       "        2.37721949e-02, -5.55926992e-02, -1.52074160e-01,  5.20360133e-02,\n",
       "        2.98978731e-02, -7.20385307e-02, -7.80370928e-02,  4.67461969e-02,\n",
       "       -7.30641391e-02, -5.44216444e-02,  1.68766771e-01,  9.09588183e-02,\n",
       "       -7.71229406e-02,  3.03999021e-02,  1.94765910e-02,  9.46611759e-04,\n",
       "        1.18346530e-02, -2.73687352e-01,  1.87343028e-01, -1.37494712e-02,\n",
       "       -6.16769703e-02, -1.16291683e-02,  2.01065539e-01,  1.22967509e-01,\n",
       "       -7.18758771e-02,  1.22041674e-01, -2.53739243e-01,  1.83662226e-01,\n",
       "        9.99801693e-02, -1.13124705e-01, -7.07711968e-03,  1.69174439e-01,\n",
       "        6.57229322e-02,  1.01362877e-01,  1.58702906e-02,  8.18903300e-02,\n",
       "       -4.20011901e-02,  1.63908485e-01,  2.44139969e-01,  1.47092607e-01,\n",
       "        8.64220704e-02, -1.97817932e-02,  7.94373687e-02, -3.38373189e-02,\n",
       "       -1.61894671e-01,  3.78313197e-02,  1.71625744e-03,  3.22656196e-02,\n",
       "        1.91372826e-01, -1.81373594e-02,  2.58444776e-02,  1.65489164e-01,\n",
       "       -1.83289313e-01, -3.18486571e-02, -1.06105909e-02, -1.34769942e-02,\n",
       "        8.13674718e-02, -8.45883507e-02, -6.09727271e-02, -7.91047997e-02,\n",
       "        6.42742926e-02, -1.09297188e-01,  7.82951066e-02,  7.20285685e-02,\n",
       "       -1.88808901e-02, -3.63458340e-03,  4.76056011e-03,  3.72591525e-02,\n",
       "        4.96033514e-02,  4.05479666e-02,  2.19685331e-02, -1.52194911e-01,\n",
       "        2.01036095e-01, -1.16756814e-01,  1.22636726e-01, -3.02786709e-02,\n",
       "       -1.97895322e-02,  1.15016176e-02, -5.32778494e-02, -7.91084590e-02,\n",
       "        9.15570544e-02,  1.75149794e-01,  4.29465387e-02, -1.73322952e-01,\n",
       "        6.19063714e-03, -6.84105864e-02,  1.04324723e-01,  1.12820236e-01,\n",
       "        1.03513176e-01,  8.24744324e-02, -5.86118510e-02, -9.12688338e-02,\n",
       "        1.12898495e-01, -9.03865412e-02, -8.68332418e-02,  2.26637573e-02,\n",
       "       -3.98880173e-02, -1.20459652e-01,  2.24450810e-02, -1.59740133e-02,\n",
       "       -3.64236193e-02, -2.28200446e-02,  3.92874695e-02, -3.21297181e-02,\n",
       "       -4.92455524e-02, -4.91583733e-02,  6.24674099e-02,  1.15887300e-01,\n",
       "        7.19639378e-02,  2.52107171e-01, -1.69574458e-01, -3.39776445e-02,\n",
       "        1.74405823e-01,  2.69579181e-02, -1.05679212e-01, -1.17675927e-01,\n",
       "        1.14998390e-01,  7.53573222e-02, -2.17107724e-02, -8.57219536e-02,\n",
       "       -1.58666923e-02,  5.02590695e-02,  1.06963890e-02, -1.21052360e-01,\n",
       "       -3.48666721e-02, -4.77105768e-03,  1.16900550e-01,  1.26920052e-01,\n",
       "       -1.03080595e-01,  2.30049748e-02, -1.82575162e-01, -6.90638999e-02,\n",
       "        1.54214117e-01,  1.31548991e-01,  3.13609943e-02, -1.00363943e-01,\n",
       "        4.37287668e-02, -8.48297719e-02, -9.42563458e-02,  1.20860372e-02,\n",
       "        2.28096505e-02, -1.39470027e-02, -7.19703932e-02,  6.78702425e-03,\n",
       "       -3.97396047e-02,  1.44837930e-01,  4.78776945e-02,  6.60657420e-02,\n",
       "        1.47857037e-01, -2.38914422e-01, -6.51007521e-03,  1.61832217e-01,\n",
       "        2.20824760e-01, -2.74947507e-02, -2.77175353e-02,  1.33472900e-03,\n",
       "        7.60229328e-02,  1.01233022e-01,  1.07043152e-01,  1.69459818e-01,\n",
       "       -6.07250065e-03,  9.15913025e-02, -8.11320936e-02, -4.38742844e-02,\n",
       "       -2.53359075e-02, -9.53733277e-02, -9.72495389e-02,  1.49705488e-02,\n",
       "       -1.45029357e-01,  7.52774525e-02,  2.95847197e-02, -4.64765284e-02,\n",
       "        1.75085167e-01,  1.92060828e-01, -1.07979779e-01,  2.49821383e-02,\n",
       "       -2.64774200e-02,  5.16860828e-02, -4.26964567e-02, -2.37735830e-02,\n",
       "        1.60909884e-01,  6.40459143e-02, -1.13717812e-01, -1.60284886e-01,\n",
       "       -4.33478430e-02, -8.10285241e-03,  7.57604676e-02,  1.95042645e-02,\n",
       "       -1.58800689e-02,  2.45864672e-02, -5.94984642e-03,  3.25731241e-02,\n",
       "        1.80117271e-01,  1.55904196e-01,  5.55189466e-04,  5.60332726e-02,\n",
       "       -6.30081294e-03,  3.71282208e-02,  6.64460429e-02,  1.05208953e-01,\n",
       "        3.92677430e-02, -1.31552220e-02, -3.55297976e-02, -7.13771490e-02,\n",
       "       -1.41348225e-01, -4.91893843e-02,  1.46439858e-01, -5.47430564e-02,\n",
       "        4.57532675e-03,  8.47788153e-02,  3.96157623e-02,  1.52029799e-01,\n",
       "        5.10518874e-02,  1.39549679e-01, -2.59253192e-02,  3.29387930e-01,\n",
       "       -2.54334491e-02,  2.98567031e-02, -9.60897921e-02,  6.23724167e-02,\n",
       "       -1.03426001e-01, -1.25212808e-01,  2.11891558e-01, -4.06489540e-02,\n",
       "        9.30044242e-02,  2.96791717e-02, -1.12254286e-01, -4.71075501e-04,\n",
       "        1.19480761e-01,  4.56524766e-02, -8.94532667e-03,  3.82315165e-02,\n",
       "       -2.78654747e-02, -2.05497658e-01, -6.59476786e-02,  3.43067465e-02,\n",
       "        1.09345428e-01,  6.37998341e-03,  6.00425083e-02, -1.45668528e-02,\n",
       "        1.40418818e-02,  7.17864613e-02,  1.81823724e-02,  2.80080017e-02,\n",
       "        1.37060476e-01, -2.07503945e-02, -1.19499412e-01,  5.25413017e-02,\n",
       "       -5.97254712e-02,  1.83127903e-01, -4.94210061e-02, -3.75795152e-02,\n",
       "       -3.44183827e-02, -2.73253559e-02,  1.38943426e-02, -3.27083757e-02,\n",
       "        1.42085508e-01, -1.89485871e-02,  4.21929890e-02, -3.00161331e-03,\n",
       "        8.65381460e-02,  5.37343075e-02,  2.27955587e-02,  1.87536411e-02,\n",
       "        6.62582521e-02, -6.73532644e-03,  1.13143056e-01,  7.88677498e-02,\n",
       "        1.51813466e-01,  7.24741990e-02, -8.37450195e-02,  2.24304393e-02,\n",
       "       -6.37135225e-03,  5.99569552e-02,  1.10094776e-01,  3.96303615e-02,\n",
       "       -1.18587571e-01, -2.58017729e-01,  1.12590798e-01, -4.79121819e-02,\n",
       "        1.56822624e-01, -5.51749660e-02, -7.94400265e-02, -2.63676271e-02,\n",
       "       -3.41686707e-02,  8.97295501e-03, -1.40133196e-02, -3.07979407e-02,\n",
       "       -2.19952998e-02, -1.77681128e-01, -1.71019109e-02, -5.30385319e-02,\n",
       "       -2.49607944e-02,  6.02497510e-03, -7.59559576e-02, -1.63293618e-01,\n",
       "        4.79863639e-02, -6.75504879e-02, -8.42189428e-02,  1.17601671e-01,\n",
       "       -6.59585117e-02,  1.45867642e-01,  1.12980577e-01,  9.74981183e-02,\n",
       "        5.41557115e-02, -4.50874001e-02, -2.91881200e-01, -2.03297693e-01,\n",
       "        1.53427915e-01,  9.00300146e-03,  5.11107073e-02,  3.04986097e-02,\n",
       "        4.52125862e-02, -2.37096627e-02, -1.14788648e-01, -3.35845177e-02,\n",
       "        1.76681031e-01,  4.51013610e-02, -1.50031141e-02,  3.91796863e-02,\n",
       "       -1.49969688e-01,  7.57226620e-02,  1.60698908e-01,  1.42471447e-01,\n",
       "        1.15155071e-01,  3.12734272e-02, -2.68420804e-02, -4.15719106e-02,\n",
       "        1.09163896e-01, -6.86105691e-02,  4.17842696e-02, -1.21897238e-01,\n",
       "        6.63875485e-02, -8.17450521e-02,  1.38175685e-01,  6.30378081e-02,\n",
       "        2.26630070e-01,  4.23286050e-02,  3.29340604e-02, -1.92549736e-01,\n",
       "       -6.95482845e-02, -7.33393863e-03, -1.93625770e-02,  4.14148131e-02,\n",
       "       -1.79951732e-02,  7.06170983e-02,  1.65403468e-01,  5.59445662e-02,\n",
       "       -1.37751171e-01,  1.40030944e-01,  1.69526097e-01,  9.92667635e-02,\n",
       "       -1.79368951e-01, -1.43093801e-02, -3.99695282e-02,  1.49434300e-01,\n",
       "        4.40496719e-02,  1.84381334e-01,  1.64257469e-01, -1.15396249e-02,\n",
       "       -1.61442301e-02,  7.10115369e-02, -1.71209626e-02, -8.66864085e-02,\n",
       "        8.90319484e-02, -4.17288240e-02,  9.31199331e-02,  6.73726508e-02,\n",
       "        6.70068159e-02, -2.59172588e-02,  1.53544355e-01, -1.21601766e-01,\n",
       "        1.68685864e-01,  1.05274016e-02,  1.00707139e-01,  1.17017707e-01,\n",
       "       -8.71747885e-02, -6.97018065e-02, -2.05887489e-01,  2.59404714e-02,\n",
       "       -3.89489762e-02, -1.40545483e-01, -1.18109086e-01,  5.46642944e-02,\n",
       "        8.61446738e-03, -3.61328121e-02, -4.54910990e-02,  6.79466080e-03,\n",
       "       -5.85996451e-02, -2.40274587e-02,  3.87050625e-02,  1.18340199e-02,\n",
       "       -6.24886783e-02,  2.60224796e-02,  5.81391128e-02,  5.82844254e-02,\n",
       "       -1.67945848e-01, -3.19809204e-02,  7.82225698e-02,  6.22020450e-02,\n",
       "       -7.37931558e-02, -6.10244265e-03,  1.14813683e-01,  1.00800839e-01,\n",
       "        7.17366926e-02, -1.35977004e-01,  1.13933020e-01, -1.41085890e-01,\n",
       "        4.99672247e-02,  9.55739335e-03, -5.59924318e-02, -1.47861493e-01,\n",
       "       -3.17068820e-01,  1.34754567e-01,  2.26843777e-01, -3.37487259e-02,\n",
       "        1.02930905e-01, -1.30388029e-01,  4.02264250e-02, -3.70788101e-02,\n",
       "        1.10467205e-01,  2.87955385e-03,  2.62584874e-04, -1.13140497e-01,\n",
       "        1.13552579e-01, -1.72439286e-01,  8.12616603e-02,  4.54914091e-05,\n",
       "        8.08455497e-02, -3.91420982e-02, -1.81819367e-01,  5.38609138e-02,\n",
       "        1.75404398e-02,  1.22083175e-01, -1.29635823e-01,  1.95444565e-01,\n",
       "       -1.46897003e-01,  7.22186425e-02,  6.18359427e-03,  4.36384817e-03,\n",
       "       -5.03387275e-03, -4.25622583e-03,  8.46274481e-02,  5.56149980e-02,\n",
       "       -1.63415899e-01, -2.61487538e-02,  2.97798609e-02, -2.37540075e-02,\n",
       "       -2.05752832e-01, -8.73313500e-02,  8.39918986e-02, -1.06729576e-01,\n",
       "       -1.29530088e-01,  4.21407492e-03, -5.07824010e-03,  7.20668875e-02,\n",
       "        6.54361177e-03, -1.37029248e-02, -1.84547891e-01, -6.65298196e-02,\n",
       "        2.61668186e-04, -1.52025948e-02,  2.85570828e-02,  1.08278230e-01,\n",
       "       -1.65257465e-02, -9.75450151e-02, -5.08581632e-03,  1.35696956e-01,\n",
       "        6.57670814e-02,  1.82146716e-01,  3.66211544e-02, -1.13913571e-01,\n",
       "       -8.35754529e-03,  7.05787032e-03,  1.23868817e-01,  3.24540014e-02,\n",
       "        8.62857067e-02,  3.54203729e-02,  9.27587789e-02, -1.51960299e-01,\n",
       "       -1.43734993e-02, -2.93238409e-02,  4.15330858e-02,  7.34726726e-02,\n",
       "        6.08469224e-03,  9.55051121e-02,  3.82059842e-02, -8.10043176e-02,\n",
       "        1.45538450e-01,  8.51678448e-02, -1.15328513e-02, -3.61662301e-02,\n",
       "       -5.64832136e-02, -8.20260695e-02,  3.76334099e-04,  1.52967360e-03,\n",
       "       -7.19127777e-02, -4.76080799e-03, -6.13357141e-02,  7.68281832e-02,\n",
       "        2.41658011e-01, -3.19597595e-02,  6.21183124e-02, -4.04757279e-03,\n",
       "        9.97039568e-02, -8.24684018e-02, -1.81387203e-01, -2.26771266e-01,\n",
       "        2.06721702e-02, -2.10344945e-01, -8.28853831e-02, -1.22186547e-01,\n",
       "        5.44636181e-02,  2.51777139e-01,  8.34255290e-02,  9.60070256e-02,\n",
       "        5.67277444e-02, -3.02104816e-02, -9.94835502e-02, -3.36495268e-02,\n",
       "        1.43809449e-01, -3.32541537e-02, -5.50247550e-02,  1.73442713e-01,\n",
       "       -1.07123293e-01, -9.79333535e-02,  7.01769941e-02, -7.71045829e-02,\n",
       "        1.01607330e-01,  1.65039942e-01,  1.09651043e-01, -1.07452192e-01,\n",
       "       -8.58199511e-02, -9.05441682e-02, -4.44969086e-02,  6.84243872e-02,\n",
       "        6.13720683e-02,  8.25379342e-02, -5.54176263e-02, -5.07458855e-02,\n",
       "       -1.41320389e-01,  1.01562179e-01, -1.28207589e-01, -1.34987381e-01,\n",
       "       -9.00314422e-03,  9.21458954e-02,  6.01448371e-02, -8.62842244e-02,\n",
       "       -1.97067235e-01, -5.70459233e-02,  1.08723392e-02, -1.97113104e-01,\n",
       "       -5.86078858e-02,  5.73212227e-02,  6.73654071e-02, -2.15481560e-01,\n",
       "        8.61454197e-02,  9.19924203e-02,  1.72278556e-02,  9.38207483e-02,\n",
       "       -7.21903544e-03,  1.48229306e-01,  1.49773090e-02, -6.07791474e-02,\n",
       "        8.68854135e-02, -4.31286241e-02, -5.67824576e-02,  1.10891144e-01,\n",
       "       -1.14301339e-01, -2.04983319e-01, -1.42804527e-01, -1.08090650e-01,\n",
       "       -8.53524397e-02,  2.19277283e-01, -2.18094052e-02, -4.41341545e-02,\n",
       "        1.62875481e-01,  2.83555606e-02, -1.30693285e-01, -2.47193056e-02,\n",
       "       -5.32500694e-02,  9.66298840e-03,  1.76421225e-01,  3.52740112e-02,\n",
       "        1.78654819e-02, -2.06563813e-01, -7.51477681e-02, -1.26275614e-01,\n",
       "       -8.61742213e-02,  1.13272647e-01, -1.37711900e-02, -1.26951274e-01,\n",
       "       -1.28938028e-01,  3.41298364e-02, -1.22215676e-01, -1.04730349e-01,\n",
       "        8.73777055e-02, -2.01701554e-01,  9.02190313e-02,  5.83334722e-02,\n",
       "        1.50589751e-03,  2.44747876e-02, -1.12472991e-01, -6.47097134e-02,\n",
       "       -1.45650130e-01,  7.90066337e-02, -1.43016570e-01, -2.36955140e-02,\n",
       "       -2.85182432e-01, -1.22213320e-02,  3.69513271e-02, -4.40544001e-02,\n",
       "        5.20916194e-02, -1.74338447e-01, -1.31186366e-01,  8.45600888e-02,\n",
       "        8.94754175e-02, -1.57224520e-01, -1.95923734e-01,  4.47554135e-02,\n",
       "        2.27642464e-02,  7.02882938e-03, -1.10529161e-01,  1.65402328e-02,\n",
       "        3.05763314e-03,  5.09344937e-02,  2.88706100e-02,  2.88456123e-03,\n",
       "        8.39964173e-02, -1.46407275e-02,  1.17352854e-01, -4.83179158e-02,\n",
       "        1.04810567e-01,  1.74794506e-01,  1.15470415e-01, -1.23118065e-01,\n",
       "       -4.91041535e-02, -5.03937386e-02, -8.32330763e-02, -4.55759342e-02,\n",
       "        6.44691683e-03,  9.79136275e-02,  1.01614819e-01, -1.31327808e-01,\n",
       "        1.36893292e-01, -8.42232003e-02, -1.30102385e-02, -2.22246078e-02,\n",
       "        1.10804555e-01,  6.37466265e-02, -2.99783338e-02,  6.34735496e-02,\n",
       "       -1.32080595e-01, -8.25867898e-02, -3.29219348e-01,  1.73584487e-02,\n",
       "        1.26232287e-01, -1.64245469e-01, -5.26306980e-02,  1.94768771e-02,\n",
       "       -4.09014264e-02, -8.74700975e-02,  7.60201835e-02,  8.43707661e-02,\n",
       "        1.78711075e-03,  1.62842784e-01, -9.93790415e-03, -1.05380277e-01,\n",
       "        9.34425280e-02,  5.36266029e-02,  2.26675827e-02,  7.06416891e-02,\n",
       "        7.07444106e-02,  2.55502653e-02, -9.10023645e-02, -4.77673114e-02,\n",
       "       -9.52208930e-02,  7.33357422e-03,  3.77076611e-02,  7.43607299e-03,\n",
       "        4.20081869e-02,  1.88929277e-02,  9.90785904e-02, -2.25083177e-01,\n",
       "       -8.24568179e-02, -1.84196783e-02,  3.60575152e-02, -4.67408367e-02,\n",
       "        5.44268867e-02,  1.36070181e-02, -1.31581443e-01, -3.29768237e-02,\n",
       "       -5.75183962e-02,  1.16462775e-01, -2.98298300e-02, -9.20385453e-02,\n",
       "        7.61498315e-02, -6.88689878e-02,  9.71819944e-02,  3.29959863e-02,\n",
       "       -2.87359928e-02,  6.38390482e-02, -1.64363381e-02,  6.57449132e-02,\n",
       "       -5.22730610e-02,  1.24562195e-01, -7.66956780e-02, -1.17795799e-01,\n",
       "        7.61310458e-02,  6.61570571e-02,  1.79426196e-02, -2.36804385e-02,\n",
       "        5.19770333e-02,  1.87666543e-01,  1.05857444e-01, -1.51865489e-02,\n",
       "        1.43882314e-01, -7.15138657e-02,  1.02660845e-01, -1.15365921e-02,\n",
       "        3.38999281e-02,  4.88366001e-02, -9.39052547e-03,  9.33545594e-02,\n",
       "       -4.98128989e-02, -2.17147447e-02, -1.25707176e-01, -1.61752634e-01,\n",
       "       -5.51797779e-02, -7.10491641e-02, -1.13785783e-01,  4.85211854e-02,\n",
       "       -1.11363359e-01,  5.49826613e-02,  6.17051670e-02,  3.48090181e-02,\n",
       "        1.79410035e-01,  8.93898818e-03,  2.26306269e-01,  6.42841098e-02,\n",
       "       -2.93205828e-03, -3.94145775e-02,  2.28863819e-02,  9.94532460e-02,\n",
       "       -3.93797478e-03, -1.57852583e-01,  1.08977323e-01,  3.02251901e-01,\n",
       "        1.61836193e-02, -1.07107123e-01,  1.32911805e-02,  3.54890886e-02,\n",
       "       -8.31664598e-02,  3.08064185e-02,  5.83684857e-02,  1.10325907e-01,\n",
       "       -1.51797777e-04, -9.67392426e-02, -8.66601295e-02, -1.14605950e-01,\n",
       "       -8.14178852e-02, -1.45294342e-01, -1.32441009e-02,  8.84205778e-02,\n",
       "        5.84984688e-02,  1.20410445e-02,  6.63743110e-02, -4.92473543e-02,\n",
       "       -2.65268994e-02, -1.39077448e-01, -1.69766264e-02, -1.09087690e-01,\n",
       "       -7.67174200e-02, -6.10395098e-02, -1.51663387e-01,  1.22703103e-02,\n",
       "       -1.18759142e-01, -7.43011342e-02, -1.98998500e-01, -2.19425842e-02,\n",
       "        5.43333711e-02,  6.35207113e-02,  7.72597077e-02, -2.90309177e-02,\n",
       "        1.58547776e-01, -1.01663428e-01, -8.27212241e-02,  1.51808995e-02,\n",
       "        1.24026814e-01,  1.98432311e-01,  1.94139799e-01,  1.05662522e-01,\n",
       "        9.50272415e-02,  1.54203802e-01, -2.28089806e-01,  1.64192258e-01,\n",
       "        5.33108074e-02, -1.23460634e-02, -7.00133306e-02,  5.87104723e-02,\n",
       "        2.36716827e-02, -3.69112989e-02, -1.06294637e-01,  4.98692847e-02,\n",
       "        2.25113461e-01,  1.56089552e-02, -1.56830778e-01,  5.68237041e-03,\n",
       "       -8.93465974e-03,  2.06025342e-01,  1.07156374e-01,  5.82861928e-02,\n",
       "        9.03657543e-02, -1.54707006e-01,  1.87706608e-01,  1.06874320e-01,\n",
       "       -3.35010828e-02, -1.75936831e-01,  8.63745629e-02, -8.52819458e-02,\n",
       "       -7.14656766e-03,  1.79232068e-01,  2.81502650e-02,  6.58393666e-02,\n",
       "        8.63674821e-02,  8.01201048e-02,  4.47736220e-02, -1.37052358e-01,\n",
       "       -5.19667291e-02, -1.51259544e-01,  1.29972886e-01,  5.57847550e-02,\n",
       "       -8.56917646e-02, -2.96983322e-02,  5.03804435e-02, -8.41491119e-02,\n",
       "       -2.22002914e-02,  2.24752589e-02, -1.92431393e-02,  1.25743152e-01,\n",
       "        1.20743136e-01, -8.57518736e-02, -6.40526919e-02,  5.16925414e-02,\n",
       "       -5.65034510e-02, -2.26820228e-01,  4.20652964e-02, -1.18020097e-01,\n",
       "       -4.51164810e-02, -1.35033203e-01, -1.02352886e-01,  9.59216101e-02,\n",
       "        2.49078450e-02, -1.57660488e-02, -4.42124023e-02,  6.83730001e-02,\n",
       "        2.30303204e-01,  1.27370169e-01, -1.34616233e-02, -1.65625779e-01,\n",
       "       -4.88184496e-02,  3.97691732e-02, -3.67944759e-02, -4.44765937e-02,\n",
       "       -8.03745071e-02,  1.22677215e-02, -1.13382689e-01,  5.56383557e-02,\n",
       "       -1.34846126e-03, -9.23053077e-02,  6.80385131e-02,  2.77486344e-01,\n",
       "        9.53648144e-02, -6.70204173e-02,  3.71509365e-02, -1.67888606e-01])"
      ]
     },
     "execution_count": 26,
     "metadata": {},
     "output_type": "execute_result"
    }
   ],
   "source": [
    "mu, sigma = 0, 0.1\n",
    "np.random.normal(mu, sigma, 1000)"
   ]
  },
  {
   "cell_type": "markdown",
   "metadata": {},
   "source": [
    "*Round*\n",
    "\n",
    "Round an array to the given number of decimals.\n",
    "\n",
    "How: numpy.round_(a, decimals=0, out=None)\n"
   ]
  },
  {
   "cell_type": "code",
   "execution_count": 27,
   "metadata": {},
   "outputs": [
    {
     "data": {
      "text/plain": [
       "array([[1, 2, 3],\n",
       "       [4, 5, 6]])"
      ]
     },
     "execution_count": 27,
     "metadata": {},
     "output_type": "execute_result"
    }
   ],
   "source": [
    "np.round_(D)"
   ]
  },
  {
   "cell_type": "markdown",
   "metadata": {},
   "source": [
    "*Boolean and Logical Operators*\n",
    "\n",
    "Unsure if referring to truth value testing and logical operations here :https://docs.scipy.org/doc/numpy/reference/routines.logic.html "
   ]
  },
  {
   "cell_type": "markdown",
   "metadata": {},
   "source": [
    "**Resources: **\n",
    "\n",
    "1. https://hackernoon.com/introduction-to-numpy-1-an-absolute-beginners-guide-to-machine-learning-and-data-science-5d87f13f0d51\n",
    "\n",
    "1. https://docs.scipy.org/doc/numpy-1.14.0/reference/generated/numpy.ndarray.html\n",
    "\n",
    "1. https://docs.scipy.org/doc/numpy-1.13.0/reference/routines.array-manipulation.html\n",
    "\n",
    "1. https://jakevdp.github.io/PythonDataScienceHandbook/02.02-the-basics-of-numpy-arrays.html\n"
   ]
  },
  {
   "cell_type": "markdown",
   "metadata": {},
   "source": [
    "# **Pandas**\n",
    "\n",
    "It supports reading and writing excel spreadsheets, CVS's. It also helps you to manage two-dimensional data tables in Python.\n",
    "\n",
    "**Series and Dataframes**\n",
    "\n",
    "*Series*\n",
    "\n",
    "A pandas Series is a one dimensional data structure (“a one dimensional ndarray”) that can store values and for every value it holds a unique index.\n",
    "\n"
   ]
  },
  {
   "cell_type": "code",
   "execution_count": 28,
   "metadata": {},
   "outputs": [
    {
     "name": "stdout",
     "output_type": "stream",
     "text": [
      "0    1\n",
      "1    2\n",
      "2    2\n",
      "3    4\n",
      "4    5\n",
      "5    8\n",
      "6    9\n",
      "7    5\n",
      "8    2\n",
      "dtype: int64\n"
     ]
    }
   ],
   "source": [
    "import pandas as pd\n",
    "G = pd.Series([1,2,2,4,5,8,9,5,2])\n",
    "print(G)"
   ]
  },
  {
   "cell_type": "markdown",
   "metadata": {},
   "source": [
    "**DataFrame**\n",
    "\n",
    "A pandas DataFrame is a two (or more) dimensional data structure, basically a table with rows and columns. The columns have names and the rows have indexes.\n",
    "\n",
    "*Reading and Writing Files*\n",
    "\n",
    "![https://i.imgur.com/XdGYXir.jpg](https://i.imgur.com/XdGYXir.jpg)\n",
    "\n",
    "\n",
    "Source: https://pandas.pydata.org/pandas-docs/stable/user_guide/io.html#io-read-csv-table"
   ]
  },
  {
   "cell_type": "code",
   "execution_count": 29,
   "metadata": {},
   "outputs": [],
   "source": [
    "#pd.read_csv('zoo.csv', delimiter = ',')\t\t#Reading a csv file with delimiter “,”\n",
    "\n",
    "# B is loading csv file with headers being specified\n",
    "B = pd.read_csv('pandas_tutorial_read.csv', delimiter=';', names = ['my_datetime', 'event', 'country', 'user_id', 'source', 'topic'])\n",
    "#B"
   ]
  },
  {
   "cell_type": "markdown",
   "metadata": {},
   "source": [
    "**Column, row selection & Subnetting**"
   ]
  },
  {
   "cell_type": "code",
   "execution_count": 30,
   "metadata": {},
   "outputs": [],
   "source": [
    "# Selecting and displaying a column as dataframe\n",
    "#B[['user_id']]\n",
    "#B[['user_id', 'topic']]\t\t#Selected two columns\n",
    "\n",
    "# Selecting and displaying a column as series\n",
    "#B[‘user_id’]\n",
    "#B.user_id\n",
    "\n",
    "# Selecting rows of country 1\n",
    "#B.country == 'country_1'\n",
    "\n",
    "# Selection by Position\n",
    "#B.iloc[3]\n",
    "\n",
    "# Selecting explicit value\n",
    "#B.iloc[2,3]\n"
   ]
  },
  {
   "cell_type": "markdown",
   "metadata": {},
   "source": [
    "**Adding, deleting, modifying column, rows, specific locations(Element access)**\n",
    "\n",
    "https://pandas.pydata.org/pandas-docs/stable/user_guide/merging.html#merging-concatenation \n",
    "\n",
    "https://data36.com/pandas-tutorial-3-important-data-formatting-methods-merge-sort-reset_index-fillna/\n",
    "\n",
    "https://data36.com/pandas-tutorial-2-aggregation-and-grouping/\n",
    "\n",
    "**Calculating new columns from existing columns**\n"
   ]
  },
  {
   "cell_type": "markdown",
   "metadata": {},
   "source": [
    "**Resources:**\n",
    "\n",
    "1. https://data36.com/pandas-tutorial-1-basics-reading-data-files-dataframes-data-selection/\n",
    "\n",
    "1. https://hackernoon.com/intro-to-pandas-1-an-absolute-beginners-guide-to-machine-learning-and-data-science-a1fed3a6f0f3\n",
    "\n",
    "1. https://pandas.pydata.org/pandas-docs/stable/user_guide/merging.html#merging-concatenation \n",
    "\n",
    "1. https://data36.com/pandas-tutorial-3-important-data-formatting-methods-merge-sort-reset_index-fillna/\n",
    "\n",
    "1. https://data36.com/pandas-tutorial-2-aggregation-and-grouping/\n"
   ]
  }
 ],
 "metadata": {
  "kernelspec": {
   "display_name": "Python 3",
   "language": "python",
   "name": "python3"
  },
  "language_info": {
   "codemirror_mode": {
    "name": "ipython",
    "version": 3
   },
   "file_extension": ".py",
   "mimetype": "text/x-python",
   "name": "python",
   "nbconvert_exporter": "python",
   "pygments_lexer": "ipython3",
   "version": "3.7.1"
  }
 },
 "nbformat": 4,
 "nbformat_minor": 1
}
